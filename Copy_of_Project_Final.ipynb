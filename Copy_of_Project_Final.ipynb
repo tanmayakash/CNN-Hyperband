{
 "cells": [
  {
   "cell_type": "code",
   "execution_count": 1,
   "metadata": {
    "colab": {
     "base_uri": "https://localhost:8080/"
    },
    "executionInfo": {
     "elapsed": 736,
     "status": "ok",
     "timestamp": 1650213092505,
     "user": {
      "displayName": "Tanmay Sarkar Akash",
      "userId": "04878820694228496521"
     },
     "user_tz": 300
    },
    "id": "a4Tfki5RjvLX",
    "outputId": "fa4b2d86-7048-44ed-df91-3ea820a32b1a"
   },
   "outputs": [],
   "source": [
    "#from google.colab import drive\n",
    "#drive.mount('/content/gdrive')\n",
    "#root_path = 'gdrive/My Drive/NumtaDB_with_aug' "
   ]
  },
  {
   "cell_type": "code",
   "execution_count": 2,
   "metadata": {
    "id": "2lRf8JE6R470"
   },
   "outputs": [],
   "source": [
    "import numpy as np\n",
    "import os\n",
    "import glob\n",
    "import cv2\n",
    "import matplotlib.pyplot as plt\n",
    "import pandas as pd\n",
    "import pickle\n",
    "import keras\n",
    "from tensorflow.keras.utils import to_categorical\n",
    "from keras.layers import Dense, Input, Conv2D, Flatten, MaxPooling2D, Activation,Dropout\n",
    "from keras.models import Model\n",
    "from keras.callbacks import ModelCheckpoint\n",
    "from keras import backend as K\n",
    "from __future__ import print_function\n",
    "from keras.models import Sequential\n",
    "from keras.layers import Dense, Activation\n",
    "from tensorflow.keras.utils import to_categorical\n",
    "from keras import backend as k\n",
    "%matplotlib inline\n",
    "import matplotlib.pyplot as plt\n",
    "import numpy as np"
   ]
  },
  {
   "cell_type": "code",
   "execution_count": 3,
   "metadata": {
    "id": "0dyW6yh4jq9H"
   },
   "outputs": [],
   "source": [
    "import numpy as np\n",
    "np.random.seed(1337)  # for reproducibility\n",
    "import h5py\n",
    "from keras.models import Sequential\n",
    "from keras.initializers import TruncatedNormal\n",
    "from keras.layers import Input, Dense, Dropout, Flatten, Conv2D, MaxPooling2D, BatchNormalization\n",
    "from keras.callbacks import ReduceLROnPlateau\n",
    "\n",
    "from sklearn.metrics import roc_curve, auc\n",
    "\n",
    "import matplotlib.pyplot as plt\n",
    "import tensorflow as tf\n",
    "from tensorflow import keras"
   ]
  },
  {
   "cell_type": "code",
   "execution_count": 4,
   "metadata": {
    "colab": {
     "base_uri": "https://localhost:8080/"
    },
    "executionInfo": {
     "elapsed": 110,
     "status": "ok",
     "timestamp": 1650213106425,
     "user": {
      "displayName": "Tanmay Sarkar Akash",
      "userId": "04878820694228496521"
     },
     "user_tz": 300
    },
    "id": "TsDwRZngjq9H",
    "outputId": "bc8ddd61-4d4b-49d4-8d4a-2e10902bf45b"
   },
   "outputs": [
    {
     "data": {
      "text/plain": [
       "[]"
      ]
     },
     "execution_count": 4,
     "metadata": {},
     "output_type": "execute_result"
    }
   ],
   "source": [
    "import tensorflow as tf\n",
    "tf.config.list_physical_devices('GPU')"
   ]
  },
  {
   "cell_type": "code",
   "execution_count": 5,
   "metadata": {
    "colab": {
     "base_uri": "https://localhost:8080/"
    },
    "executionInfo": {
     "elapsed": 3581,
     "status": "ok",
     "timestamp": 1650213111894,
     "user": {
      "displayName": "Tanmay Sarkar Akash",
      "userId": "04878820694228496521"
     },
     "user_tz": 300
    },
    "id": "r8cUvPj1jq9I",
    "outputId": "b83a46cc-623f-4ff9-b116-f4857d05dd3c"
   },
   "outputs": [
    {
     "name": "stdout",
     "output_type": "stream",
     "text": [
      "Defaulting to user installation because normal site-packages is not writeableNote: you may need to restart the kernel to use updated packages.\n",
      "\n",
      "Requirement already satisfied: keras-tuner in c:\\program files\\python310\\lib\\site-packages (1.1.2)\n",
      "Requirement already satisfied: numpy in c:\\users\\tsaka\\appdata\\roaming\\python\\python310\\site-packages (from keras-tuner) (1.22.3)\n",
      "Requirement already satisfied: kt-legacy in c:\\program files\\python310\\lib\\site-packages (from keras-tuner) (1.0.4)\n",
      "Requirement already satisfied: packaging in c:\\program files\\python310\\lib\\site-packages (from keras-tuner) (21.3)\n",
      "Requirement already satisfied: tensorboard in c:\\program files\\python310\\lib\\site-packages (from keras-tuner) (2.8.0)\n",
      "Requirement already satisfied: ipython in c:\\program files\\python310\\lib\\site-packages (from keras-tuner) (8.2.0)\n",
      "Requirement already satisfied: requests in c:\\program files\\python310\\lib\\site-packages (from keras-tuner) (2.27.1)\n",
      "Requirement already satisfied: prompt-toolkit!=3.0.0,!=3.0.1,<3.1.0,>=2.0.0 in c:\\program files\\python310\\lib\\site-packages (from ipython->keras-tuner) (3.0.29)\n",
      "Requirement already satisfied: traitlets>=5 in c:\\program files\\python310\\lib\\site-packages (from ipython->keras-tuner) (5.1.1)\n",
      "Requirement already satisfied: stack-data in c:\\program files\\python310\\lib\\site-packages (from ipython->keras-tuner) (0.2.0)\n",
      "Requirement already satisfied: matplotlib-inline in c:\\program files\\python310\\lib\\site-packages (from ipython->keras-tuner) (0.1.3)\n",
      "Requirement already satisfied: colorama in c:\\program files\\python310\\lib\\site-packages (from ipython->keras-tuner) (0.4.4)\n",
      "Requirement already satisfied: pygments>=2.4.0 in c:\\program files\\python310\\lib\\site-packages (from ipython->keras-tuner) (2.11.2)\n",
      "Requirement already satisfied: backcall in c:\\program files\\python310\\lib\\site-packages (from ipython->keras-tuner) (0.2.0)\n",
      "Requirement already satisfied: decorator in c:\\program files\\python310\\lib\\site-packages (from ipython->keras-tuner) (5.1.1)\n",
      "Requirement already satisfied: jedi>=0.16 in c:\\program files\\python310\\lib\\site-packages (from ipython->keras-tuner) (0.18.1)\n",
      "Requirement already satisfied: pickleshare in c:\\program files\\python310\\lib\\site-packages (from ipython->keras-tuner) (0.7.5)\n",
      "Requirement already satisfied: setuptools>=18.5 in c:\\program files\\python310\\lib\\site-packages (from ipython->keras-tuner) (58.1.0)\n",
      "Requirement already satisfied: pyparsing!=3.0.5,>=2.0.2 in c:\\program files\\python310\\lib\\site-packages (from packaging->keras-tuner) (3.0.7)\n",
      "Requirement already satisfied: idna<4,>=2.5 in c:\\program files\\python310\\lib\\site-packages (from requests->keras-tuner) (3.3)\n",
      "Requirement already satisfied: certifi>=2017.4.17 in c:\\program files\\python310\\lib\\site-packages (from requests->keras-tuner) (2021.10.8)\n",
      "Requirement already satisfied: charset-normalizer~=2.0.0 in c:\\program files\\python310\\lib\\site-packages (from requests->keras-tuner) (2.0.12)\n",
      "Requirement already satisfied: urllib3<1.27,>=1.21.1 in c:\\program files\\python310\\lib\\site-packages (from requests->keras-tuner) (1.26.9)\n",
      "Requirement already satisfied: google-auth-oauthlib<0.5,>=0.4.1 in c:\\program files\\python310\\lib\\site-packages (from tensorboard->keras-tuner) (0.4.6)\n",
      "Requirement already satisfied: tensorboard-data-server<0.7.0,>=0.6.0 in c:\\program files\\python310\\lib\\site-packages (from tensorboard->keras-tuner) (0.6.1)\n",
      "Requirement already satisfied: tensorboard-plugin-wit>=1.6.0 in c:\\program files\\python310\\lib\\site-packages (from tensorboard->keras-tuner) (1.8.1)\n",
      "Requirement already satisfied: grpcio>=1.24.3 in c:\\program files\\python310\\lib\\site-packages (from tensorboard->keras-tuner) (1.44.0)\n",
      "Requirement already satisfied: wheel>=0.26 in c:\\program files\\python310\\lib\\site-packages (from tensorboard->keras-tuner) (0.37.1)\n",
      "Requirement already satisfied: werkzeug>=0.11.15 in c:\\program files\\python310\\lib\\site-packages (from tensorboard->keras-tuner) (2.1.1)\n",
      "Requirement already satisfied: google-auth<3,>=1.6.3 in c:\\program files\\python310\\lib\\site-packages (from tensorboard->keras-tuner) (2.6.3)\n",
      "Requirement already satisfied: protobuf>=3.6.0 in c:\\program files\\python310\\lib\\site-packages (from tensorboard->keras-tuner) (3.20.0)\n",
      "Requirement already satisfied: absl-py>=0.4 in c:\\program files\\python310\\lib\\site-packages (from tensorboard->keras-tuner) (1.0.0)\n",
      "Requirement already satisfied: markdown>=2.6.8 in c:\\program files\\python310\\lib\\site-packages (from tensorboard->keras-tuner) (3.3.6)\n",
      "Requirement already satisfied: six in c:\\users\\tsaka\\appdata\\roaming\\python\\python310\\site-packages (from absl-py>=0.4->tensorboard->keras-tuner) (1.16.0)\n",
      "Requirement already satisfied: pyasn1-modules>=0.2.1 in c:\\program files\\python310\\lib\\site-packages (from google-auth<3,>=1.6.3->tensorboard->keras-tuner) (0.2.8)\n",
      "Requirement already satisfied: rsa<5,>=3.1.4 in c:\\program files\\python310\\lib\\site-packages (from google-auth<3,>=1.6.3->tensorboard->keras-tuner) (4.8)\n",
      "Requirement already satisfied: cachetools<6.0,>=2.0.0 in c:\\program files\\python310\\lib\\site-packages (from google-auth<3,>=1.6.3->tensorboard->keras-tuner) (5.0.0)\n",
      "Requirement already satisfied: requests-oauthlib>=0.7.0 in c:\\program files\\python310\\lib\\site-packages (from google-auth-oauthlib<0.5,>=0.4.1->tensorboard->keras-tuner) (1.3.1)\n",
      "Requirement already satisfied: parso<0.9.0,>=0.8.0 in c:\\program files\\python310\\lib\\site-packages (from jedi>=0.16->ipython->keras-tuner) (0.8.3)\n",
      "Requirement already satisfied: wcwidth in c:\\program files\\python310\\lib\\site-packages (from prompt-toolkit!=3.0.0,!=3.0.1,<3.1.0,>=2.0.0->ipython->keras-tuner) (0.2.5)\n",
      "Requirement already satisfied: asttokens in c:\\program files\\python310\\lib\\site-packages (from stack-data->ipython->keras-tuner) (2.0.5)\n",
      "Requirement already satisfied: executing in c:\\program files\\python310\\lib\\site-packages (from stack-data->ipython->keras-tuner) (0.8.3)\n",
      "Requirement already satisfied: pure-eval in c:\\program files\\python310\\lib\\site-packages (from stack-data->ipython->keras-tuner) (0.2.2)\n",
      "Requirement already satisfied: pyasn1<0.5.0,>=0.4.6 in c:\\program files\\python310\\lib\\site-packages (from pyasn1-modules>=0.2.1->google-auth<3,>=1.6.3->tensorboard->keras-tuner) (0.4.8)\n",
      "Requirement already satisfied: oauthlib>=3.0.0 in c:\\program files\\python310\\lib\\site-packages (from requests-oauthlib>=0.7.0->google-auth-oauthlib<0.5,>=0.4.1->tensorboard->keras-tuner) (3.2.0)\n"
     ]
    }
   ],
   "source": [
    "pip install keras-tuner\n"
   ]
  },
  {
   "cell_type": "code",
   "execution_count": 6,
   "metadata": {
    "id": "QaDeEpA_kssM"
   },
   "outputs": [],
   "source": [
    "import keras_tuner as kt"
   ]
  },
  {
   "cell_type": "code",
   "execution_count": 7,
   "metadata": {
    "id": "MMFylpEjjq9I"
   },
   "outputs": [],
   "source": [
    "#Declaring constants\n",
    "FIG_WIDTH=20 # Width of figure\n",
    "HEIGHT_PER_ROW=3 # Height of each row when showing a figure which consists of multiple rows\n",
    "RESIZE_DIM=32 # The images will be resized to 28x28 pixels\n"
   ]
  },
  {
   "cell_type": "code",
   "execution_count": 11,
   "metadata": {
    "id": "fN_sgapHjq9I"
   },
   "outputs": [],
   "source": [
    "#data_dir=os.path.join('/content/gdrive/MyDrive/NumtaDB_with_aug')\n",
    "data_dir=os.path.join('.','NumtaDB_with_aug')\n",
    "paths_train_a=glob.glob(os.path.join(data_dir,'training-a','*.png'))\n",
    "paths_train_b=glob.glob(os.path.join(data_dir,'training-b','*.png'))\n",
    "paths_train_e=glob.glob(os.path.join(data_dir,'training-e','*.png'))\n",
    "paths_train_c=glob.glob(os.path.join(data_dir,'training-c','*.png'))\n",
    "paths_train_d=glob.glob(os.path.join(data_dir,'training-d','*.png'))\n",
    "paths_train_all=paths_train_a+paths_train_b+paths_train_c+paths_train_d+paths_train_e\n",
    "\n",
    "paths_test_a=glob.glob(os.path.join(data_dir,'testing-a','*.png'))\n",
    "paths_test_b=glob.glob(os.path.join(data_dir,'testing-b','*.png'))\n",
    "paths_test_e=glob.glob(os.path.join(data_dir,'testing-e','*.png'))\n",
    "paths_test_c=glob.glob(os.path.join(data_dir,'testing-c','*.png'))\n",
    "paths_test_d=glob.glob(os.path.join(data_dir,'testing-d','*.png'))\n",
    "paths_test_f=glob.glob(os.path.join(data_dir,'testing-f','*.png'))+glob.glob(os.path.join(data_dir,'testing-f','*.JPG'))\n",
    "paths_test_auga=glob.glob(os.path.join(data_dir,'testing-auga','*.png'))\n",
    "paths_test_augc=glob.glob(os.path.join(data_dir,'testing-augc','*.png'))\n",
    "paths_test_all=paths_test_a+paths_test_b+paths_test_c+paths_test_d+paths_test_e+paths_test_f+paths_test_auga+paths_test_augc\n",
    "\n",
    "path_label_train_a=os.path.join(data_dir,'training-a.csv')\n",
    "path_label_train_b=os.path.join(data_dir,'training-b.csv')\n",
    "path_label_train_e=os.path.join(data_dir,'training-e.csv')\n",
    "path_label_train_c=os.path.join(data_dir,'training-c.csv')\n",
    "path_label_train_d=os.path.join(data_dir,'training-d.csv')"
   ]
  },
  {
   "cell_type": "code",
   "execution_count": 12,
   "metadata": {
    "id": "oNesBkyrjq9K"
   },
   "outputs": [],
   "source": [
    "def get_key(path):\n",
    "    # seperates the key of an image from the filepath\n",
    "    key=path.split(sep=os.sep)[-1]\n",
    "    return key\n",
    "\n",
    "def get_data(paths_img,path_label=None,resize_dim=None):\n",
    "    '''reads images from the filepaths, resizes them (if given), and returns them in a numpy array\n",
    "    Args:\n",
    "        paths_img: image filepaths\n",
    "        path_label: pass image label filepaths while processing training data, defaults to None while processing testing data\n",
    "        resize_dim: if given, the image is resized to resize_dim x resize_dim (optional)\n",
    "    Returns:\n",
    "        X: group of images\n",
    "        y: categorical true labels\n",
    "    '''\n",
    "    X=[] # initialize empty list for resized images\n",
    "    for i,path in enumerate(paths_img):\n",
    "        img=cv2.imread(path,cv2.IMREAD_GRAYSCALE) # images loaded in color (BGR)\n",
    "        #img = cv2.bilateralFilter(img,9,75,75)\n",
    "        #img = cv2.medianBlur(img,5)\n",
    "        #img = cv2.fastNlMeansDenoisingColored(img,None,10,10,7,21)\n",
    "        #img=cv2.cvtColor(img,cv2.COLOR_BGR2GRAY) # cnahging colorspace to GRAY\n",
    "        if resize_dim is not None:\n",
    "            img=cv2.resize(img,(resize_dim,resize_dim),interpolation=cv2.INTER_AREA) # resize image to 28x28\n",
    "        #X.append(np.expand_dims(img,axis=2)) # expand image to 28x28x1 and append to the list.\n",
    "        gaussian_3 = cv2.GaussianBlur(img, (9,9), 10.0) #unblur\n",
    "        img = cv2.addWeighted(img, 1.5, gaussian_3, -0.5, 0, img)\n",
    "        kernel = np.array([[-1,-1,-1], [-1,9,-1], [-1,-1,-1]]) #filter\n",
    "        img = cv2.filter2D(img, -1, kernel)\n",
    "        #thresh = 200\n",
    "        #maxValue = 255\n",
    "        #th, img = cv2.threshold(img, thresh, maxValue, cv2.THRESH_BINARY);\n",
    "        ret,img = cv2.threshold(img, 128, 255, cv2.THRESH_BINARY_INV+cv2.THRESH_OTSU)\n",
    "        X.append(img) # expand image to 28x28x1 and append to the list\n",
    "        # display progress\n",
    "        if i==len(paths_img)-1:\n",
    "            end='\\n'\n",
    "        else: end='\\r'\n",
    "        print('processed {}/{}'.format(i+1,len(paths_img)),end=end)\n",
    "        \n",
    "    X=np.array(X) # tranform list to numpy array\n",
    "    if  path_label is None:\n",
    "        return X\n",
    "    else:\n",
    "        df = pd.read_csv(path_label) # read labels\n",
    "        df=df.set_index('filename') \n",
    "        y_label=[df.loc[get_key(path)]['digit'] for path in  paths_img] # get the labels corresponding to the images\n",
    "        y=to_categorical(y_label,10) # transfrom integer value to categorical variable\n",
    "        return X, y\n",
    "        \n",
    "def imshow_group(X,y,y_pred=None,n_per_row=10,phase='processed'):\n",
    "    '''helper function to visualize a group of images along with their categorical true labels (y) and prediction probabilities.\n",
    "    Args:\n",
    "        X: images\n",
    "        y: categorical true labels\n",
    "        y_pred: predicted class probabilities\n",
    "        n_per_row: number of images per row to be plotted\n",
    "        phase: If the images are plotted after resizing, pass 'processed' to phase argument. \n",
    "            It will plot the image and its true label. If the image is plotted after prediction \n",
    "            phase, pass predicted class probabilities to y_pred and 'prediction' to the phase argument. \n",
    "            It will plot the image, the true label, and it's top 3 predictions with highest probabilities.\n",
    "    '''\n",
    "    n_sample=len(X)\n",
    "    img_dim=X.shape[1]\n",
    "    j=np.ceil(n_sample/n_per_row)\n",
    "    fig=plt.figure(figsize=(FIG_WIDTH,HEIGHT_PER_ROW*j))\n",
    "    for i,img in enumerate(X):\n",
    "        plt.subplot(j,n_per_row,i+1)\n",
    "#         img_sq=np.squeeze(img,axis=2)\n",
    "#         plt.imshow(img_sq,cmap='gray')\n",
    "        plt.imshow(img)\n",
    "        if phase=='processed':\n",
    "            plt.title(np.argmax(y[i]))\n",
    "        if phase=='prediction':\n",
    "            top_n=3 # top 3 predictions with highest probabilities\n",
    "            ind_sorted=np.argsort(y_pred[i])[::-1]\n",
    "            h=img_dim+4\n",
    "            for k in range(top_n):\n",
    "                string='pred: {} ({:.0f}%)\\n'.format(ind_sorted[k],y_pred[i,ind_sorted[k]]*100)\n",
    "                plt.text(img_dim/2, h, string, horizontalalignment='center',verticalalignment='center')\n",
    "                h+=4\n",
    "            if y is not None:\n",
    "                plt.text(img_dim/2, -4, 'true label: {}'.format(np.argmax(y[i])), \n",
    "                         horizontalalignment='center',verticalalignment='center')\n",
    "        plt.axis('off')\n",
    "    plt.show()"
   ]
  },
  {
   "cell_type": "code",
   "execution_count": 13,
   "metadata": {
    "colab": {
     "background_save": true,
     "base_uri": "https://localhost:8080/"
    },
    "id": "zkyPpYyAjq9L",
    "outputId": "4b4e8b7f-c243-4121-91cf-f70e6450bbb0"
   },
   "outputs": [
    {
     "name": "stdout",
     "output_type": "stream",
     "text": [
      "processed 19702/19702\n",
      "processed 359/359\n",
      "processed 24298/24298\n",
      "processed 10908/10908\n",
      "processed 16778/16778\n"
     ]
    }
   ],
   "source": [
    "X_train_a,y_train_a=get_data(paths_train_a,path_label_train_a,resize_dim=RESIZE_DIM)\n",
    "X_train_b,y_train_b=get_data(paths_train_b,path_label_train_b,resize_dim=RESIZE_DIM)\n",
    "X_train_c,y_train_c=get_data(paths_train_c,path_label_train_c,resize_dim=RESIZE_DIM)\n",
    "X_train_d,y_train_d=get_data(paths_train_d,path_label_train_d,resize_dim=RESIZE_DIM)\n",
    "X_train_e,y_train_e=get_data(paths_train_e,path_label_train_e,resize_dim=RESIZE_DIM)"
   ]
  },
  {
   "cell_type": "code",
   "execution_count": 14,
   "metadata": {
    "id": "erj--rsfjq9L"
   },
   "outputs": [
    {
     "data": {
      "text/plain": [
       "((72045, 32, 32), (72045, 10))"
      ]
     },
     "execution_count": 14,
     "metadata": {},
     "output_type": "execute_result"
    }
   ],
   "source": [
    "X_train_all=np.concatenate((X_train_a,X_train_b,X_train_c,X_train_d,X_train_e),axis=0)\n",
    "y_train_all=np.concatenate((y_train_a,y_train_b,y_train_c,y_train_d,y_train_e),axis=0)\n",
    "X_train_all.shape, y_train_all.shape"
   ]
  },
  {
   "cell_type": "code",
   "execution_count": 15,
   "metadata": {
    "id": "ZbYgJ2udjq9M"
   },
   "outputs": [],
   "source": [
    "X_show_all=X_train_all\n"
   ]
  },
  {
   "cell_type": "code",
   "execution_count": 16,
   "metadata": {
    "id": "TxmESe9Xjq9M",
    "scrolled": true
   },
   "outputs": [
    {
     "data": {
      "image/png": "[encoded data removed]",
      "text/plain": [
       "<Figure size 432x288 with 4 Axes>"
      ]
     },
     "metadata": {
      "needs_background": "light"
     },
     "output_type": "display_data"
    }
   ],
   "source": [
    "plt.subplot(221)\n",
    "plt.imshow(X_train_all[0], cmap=plt.get_cmap('gray'))\n",
    "plt.subplot(222)\n",
    "plt.imshow(X_train_all[1], cmap=plt.get_cmap('gray'))\n",
    "plt.subplot(223)\n",
    "plt.imshow(X_train_all[2], cmap=plt.get_cmap('gray'))\n",
    "plt.subplot(224)\n",
    "plt.imshow(X_train_all[3], cmap=plt.get_cmap('gray'))\n",
    "# show the plot\n",
    "plt.show()"
   ]
  },
  {
   "cell_type": "code",
   "execution_count": 17,
   "metadata": {
    "id": "LfvqJ_Gzjq9M"
   },
   "outputs": [
    {
     "data": {
      "image/png": "[encoded data removed]",
      "text/plain": [
       "<Figure size 432x288 with 1 Axes>"
      ]
     },
     "metadata": {
      "needs_background": "light"
     },
     "output_type": "display_data"
    }
   ],
   "source": [
    "imgg=X_train_all[1]\n",
    "hist = cv2.calcHist([imgg],[0],None,[256],[0,256])\n",
    "plt.hist(imgg.ravel(),256,[0,256])\n",
    " \n",
    "# show the plotting graph of an image\n",
    "\n",
    "plt.show()"
   ]
  },
  {
   "cell_type": "code",
   "execution_count": 18,
   "metadata": {
    "id": "QlYmXvFkjq9N"
   },
   "outputs": [
    {
     "data": {
      "text/plain": [
       "<matplotlib.image.AxesImage at 0x2293c2b7a60>"
      ]
     },
     "execution_count": 18,
     "metadata": {},
     "output_type": "execute_result"
    },
    {
     "data": {
      "image/png": "[encoded data removed]",
      "text/plain": [
       "<Figure size 432x288 with 1 Axes>"
      ]
     },
     "metadata": {
      "needs_background": "light"
     },
     "output_type": "display_data"
    }
   ],
   "source": [
    "plt.imshow(X_train_all[1])"
   ]
  },
  {
   "cell_type": "code",
   "execution_count": 19,
   "metadata": {
    "id": "Dne7j9c7jq9N"
   },
   "outputs": [
    {
     "name": "stdout",
     "output_type": "stream",
     "text": [
      "processed 3489/3489\n",
      "processed 69/69\n",
      "processed 4381/4381\n",
      "processed 1948/1948\n",
      "processed 2970/2970\n",
      "processed 495/495\n",
      "processed 2168/2168\n",
      "processed 2106/2106\n"
     ]
    }
   ],
   "source": [
    "X_test_a=get_data(paths_test_a,resize_dim=RESIZE_DIM)\n",
    "X_test_b=get_data(paths_test_b,resize_dim=RESIZE_DIM)\n",
    "X_test_c=get_data(paths_test_c,resize_dim=RESIZE_DIM)\n",
    "X_test_d=get_data(paths_test_d,resize_dim=RESIZE_DIM)\n",
    "X_test_e=get_data(paths_test_e,resize_dim=RESIZE_DIM)\n",
    "X_test_f=get_data(paths_test_f,resize_dim=RESIZE_DIM)\n",
    "X_test_auga=get_data(paths_test_auga,resize_dim=RESIZE_DIM)\n",
    "X_test_augc=get_data(paths_test_augc,resize_dim=RESIZE_DIM)"
   ]
  },
  {
   "cell_type": "code",
   "execution_count": 20,
   "metadata": {
    "id": "EMU0RCcnjq9O"
   },
   "outputs": [],
   "source": [
    "X_test_all=np.concatenate((X_test_a,X_test_b,X_test_c,X_test_d,X_test_e,X_test_f,X_test_auga,X_test_augc))"
   ]
  },
  {
   "cell_type": "code",
   "execution_count": 21,
   "metadata": {
    "id": "RyBT4L0ojq9O"
   },
   "outputs": [
    {
     "data": {
      "text/plain": [
       "(17626, 32, 32)"
      ]
     },
     "execution_count": 21,
     "metadata": {},
     "output_type": "execute_result"
    }
   ],
   "source": [
    "X_tshow_all=X_test_all\n",
    "X_tshow_all.shape"
   ]
  },
  {
   "cell_type": "code",
   "execution_count": 22,
   "metadata": {
    "id": "0X6NdRYFjq9O"
   },
   "outputs": [],
   "source": [
    "X_train_all = X_train_all.reshape(X_train_all.shape[0],32, 32,1).astype('float32')\n",
    "X_test_all = X_test_all.reshape(X_test_all.shape[0],32, 32,1).astype('float32')"
   ]
  },
  {
   "cell_type": "code",
   "execution_count": 23,
   "metadata": {
    "id": "7d_Ltbxjjq9O"
   },
   "outputs": [
    {
     "data": {
      "text/plain": [
       "(72045, 32, 32, 1)"
      ]
     },
     "execution_count": 23,
     "metadata": {},
     "output_type": "execute_result"
    }
   ],
   "source": [
    "X_train_all.shape"
   ]
  },
  {
   "cell_type": "code",
   "execution_count": 24,
   "metadata": {
    "id": "rL0IzMQBjq9P"
   },
   "outputs": [],
   "source": [
    "X_train_all = X_train_all/255\n",
    "X_test_all=X_test_all/255"
   ]
  },
  {
   "cell_type": "code",
   "execution_count": 25,
   "metadata": {
    "id": "EycPGPZkjq9P"
   },
   "outputs": [],
   "source": [
    "indices=list(range(len(X_train_all)))\n",
    "np.random.seed(42)\n",
    "np.random.shuffle(indices)\n",
    "\n",
    "ind=int(len(indices)*0.80)\n",
    "# train data\n",
    "X_train=X_train_all[indices[:ind]] \n",
    "y_train=y_train_all[indices[:ind]]\n",
    "# validation data\n",
    "X_val=X_train_all[indices[-(len(indices)-ind):]] \n",
    "y_val=y_train_all[indices[-(len(indices)-ind):]]"
   ]
  },
  {
   "cell_type": "code",
   "execution_count": 45,
   "metadata": {
    "id": "UwqMOJuZjq9P"
   },
   "outputs": [],
   "source": [
    "############## HyperBand starts ############\n",
    "from kerastuner.tuners import Hyperband\n",
    "\n",
    "from keras.layers.normalization.batch_normalization import BatchNormalization\n",
    "def model_builder(hp):\n",
    "  model = Sequential()\n",
    "\n",
    "  \n",
    "  model.add(Conv2D(\n",
    "      filters=hp.Int('num_filters_1', min_value=32, max_value=512, step = 32, default = 32), \n",
    "      activation='relu', \n",
    "      kernel_size=hp.Choice('kernel_1', values=[2,3,4,5], default = 3),\n",
    "      padding='same', \n",
    "      kernel_initializer='TruncatedNormal', \n",
    "      input_shape=(32, 32, 1)))\n",
    "  \n",
    "  model.add(Conv2D(\n",
    "      filters=hp.Int('num_filters_2', min_value=32, max_value=512, step = 32, default = 32),\n",
    "      activation='relu', \n",
    "      kernel_size=hp.Choice('kernel_2', values=[2,3,4,5], default = 3),\n",
    "      padding='same', \n",
    "      kernel_initializer='TruncatedNormal')) \n",
    "  \n",
    "  model.add(MaxPooling2D(pool_size=(2, 2)))\n",
    "\n",
    "  \n",
    "  model.add(Conv2D(\n",
    "      filters=hp.Int('num_filters_3', min_value=32, max_value=512, step = 32, default = 32),\n",
    "      activation='relu', \n",
    "      kernel_size=hp.Choice('kernel_3', values=[2,3,4,5], default = 3),\n",
    "      padding='same', \n",
    "      kernel_initializer='TruncatedNormal'))\n",
    "  \n",
    "  model.add(Conv2D(\n",
    "      filters=hp.Int('num_filters_4', min_value=32, max_value=512, step = 32, default = 32),\n",
    "      activation='relu', \n",
    "      kernel_size=hp.Choice('kernel_4', values=[2,3,4,5], default = 3),\n",
    "      padding='same', \n",
    "      kernel_initializer='TruncatedNormal'))\n",
    "  \n",
    "  model.add(MaxPooling2D(pool_size=(2, 2)))\n",
    "    \n",
    "  model.add(Flatten())\n",
    "\n",
    "  model.add(Dense(\n",
    "      units=hp.Int('dense_units_1', min_value=32, max_value=512, step = 32, default = 32), \n",
    "      activation='relu', \n",
    "      kernel_initializer='TruncatedNormal'))\n",
    "\n",
    "  model.add(Dropout(rate=hp.Float('dropout_1', min_value=0.0, max_value=0.5, default=0.3, step=0.1)))\n",
    "\n",
    "  model.add(Dense(\n",
    "      units=hp.Int('dense_units_2', min_value=32, max_value=512, step = 32, default = 32),\n",
    "      activation='relu', \n",
    "      kernel_initializer='TruncatedNormal'))\n",
    "\n",
    "  model.add(Dropout(rate=hp.Float('dropout_2', min_value=0.0, max_value=0.5, default=0.3, step=0.1)))\n",
    "  \n",
    "  model.add(Dense(10, activation='sigmoid', kernel_initializer='TruncatedNormal'))\n",
    "    \n",
    "  #hp_learning_rate = hp.Choice('learning_rate', values=[1e-2, 1e-3, 1e-4])\n",
    "\n",
    "  hp_learning_rate = hp.Float(\"lr\", min_value=1e-4, max_value=1e-2, sampling=\"log\")\n",
    "\n",
    "  model.compile(optimizer=keras.optimizers.Adam(learning_rate=hp_learning_rate),\n",
    "                loss=keras.losses.binary_crossentropy,\n",
    "                metrics=['accuracy'])\n",
    "  model.summary()\n",
    "\n",
    "  return model"
   ]
  },
  {
   "cell_type": "code",
   "execution_count": 46,
   "metadata": {
    "id": "IetO8U36jq9R"
   },
   "outputs": [
    {
     "name": "stdout",
     "output_type": "stream",
     "text": [
      "Model: \"sequential_1\"\n",
      "_________________________________________________________________\n",
      " Layer (type)                Output Shape              Param #   \n",
      "=================================================================\n",
      " conv2d_4 (Conv2D)           (None, 32, 32, 32)        320       \n",
      "                                                                 \n",
      " conv2d_5 (Conv2D)           (None, 32, 32, 32)        9248      \n",
      "                                                                 \n",
      " max_pooling2d_2 (MaxPooling  (None, 16, 16, 32)       0         \n",
      " 2D)                                                             \n",
      "                                                                 \n",
      " conv2d_6 (Conv2D)           (None, 16, 16, 32)        9248      \n",
      "                                                                 \n",
      " conv2d_7 (Conv2D)           (None, 16, 16, 32)        9248      \n",
      "                                                                 \n",
      " max_pooling2d_3 (MaxPooling  (None, 8, 8, 32)         0         \n",
      " 2D)                                                             \n",
      "                                                                 \n",
      " flatten_1 (Flatten)         (None, 2048)              0         \n",
      "                                                                 \n",
      " dense_3 (Dense)             (None, 32)                65568     \n",
      "                                                                 \n",
      " dropout_2 (Dropout)         (None, 32)                0         \n",
      "                                                                 \n",
      " dense_4 (Dense)             (None, 32)                1056      \n",
      "                                                                 \n",
      " dropout_3 (Dropout)         (None, 32)                0         \n",
      "                                                                 \n",
      " dense_5 (Dense)             (None, 10)                330       \n",
      "                                                                 \n",
      "=================================================================\n",
      "Total params: 95,018\n",
      "Trainable params: 95,018\n",
      "Non-trainable params: 0\n",
      "_________________________________________________________________\n"
     ]
    }
   ],
   "source": [
    "### Hyperband\n",
    "\n",
    "\n",
    "tuner = kt.Hyperband(model_builder,\n",
    "                     objective='val_accuracy',\n",
    "                     max_epochs=20,\n",
    "                     factor=3,\n",
    "                     #executions_per_trial=3,\n",
    "                     directory='my_dir',\n",
    "                     project_name='NUMTADB')"
   ]
  },
  {
   "cell_type": "code",
   "execution_count": 49,
   "metadata": {
    "id": "-8iA6izGG1xB"
   },
   "outputs": [],
   "source": [
    "stop_early = tf.keras.callbacks.EarlyStopping(monitor='val_loss', patience=5)"
   ]
  },
  {
   "cell_type": "code",
   "execution_count": 50,
   "metadata": {
    "id": "-NqImOhoJIOO"
   },
   "outputs": [
    {
     "name": "stdout",
     "output_type": "stream",
     "text": [
      "\n",
      "Search: Running Trial #1\n",
      "\n",
      "Value             |Best Value So Far |Hyperparameter\n",
      "160               |?                 |num_filters_1\n",
      "2                 |?                 |kernel_1\n",
      "192               |?                 |num_filters_2\n",
      "2                 |?                 |kernel_2\n",
      "384               |?                 |num_filters_3\n",
      "5                 |?                 |kernel_3\n",
      "224               |?                 |num_filters_4\n",
      "3                 |?                 |kernel_4\n",
      "288               |?                 |dense_units_1\n",
      "0.4               |?                 |dropout_1\n",
      "448               |?                 |dense_units_2\n",
      "0.1               |?                 |dropout_2\n",
      "0.0023171         |?                 |lr\n",
      "3                 |?                 |tuner/epochs\n",
      "0                 |?                 |tuner/initial_epoch\n",
      "2                 |?                 |tuner/bracket\n",
      "0                 |?                 |tuner/round\n",
      "\n",
      "Model: \"sequential\"\n",
      "_________________________________________________________________\n",
      " Layer (type)                Output Shape              Param #   \n",
      "=================================================================\n",
      " conv2d (Conv2D)             (None, 32, 32, 160)       800       \n",
      "                                                                 \n",
      " conv2d_1 (Conv2D)           (None, 32, 32, 192)       123072    \n",
      "                                                                 \n",
      " max_pooling2d (MaxPooling2D  (None, 16, 16, 192)      0         \n",
      " )                                                               \n",
      "                                                                 \n",
      " conv2d_2 (Conv2D)           (None, 16, 16, 384)       1843584   \n",
      "                                                                 \n",
      " conv2d_3 (Conv2D)           (None, 16, 16, 224)       774368    \n",
      "                                                                 \n",
      " max_pooling2d_1 (MaxPooling  (None, 8, 8, 224)        0         \n",
      " 2D)                                                             \n",
      "                                                                 \n",
      " flatten (Flatten)           (None, 14336)             0         \n",
      "                                                                 \n",
      " dense (Dense)               (None, 288)               4129056   \n",
      "                                                                 \n",
      " dropout (Dropout)           (None, 288)               0         \n",
      "                                                                 \n",
      " dense_1 (Dense)             (None, 448)               129472    \n",
      "                                                                 \n",
      " dropout_1 (Dropout)         (None, 448)               0         \n",
      "                                                                 \n",
      " dense_2 (Dense)             (None, 10)                4490      \n",
      "                                                                 \n",
      "=================================================================\n",
      "Total params: 7,004,842\n",
      "Trainable params: 7,004,842\n",
      "Non-trainable params: 0\n",
      "_________________________________________________________________\n",
      "Epoch 1/3\n",
      " 821/1441 [================>.............] - ETA: 31:22 - loss: 0.1244 - accuracy: 0.7204"
     ]
    },
    {
     "ename": "KeyboardInterrupt",
     "evalue": "",
     "output_type": "error",
     "traceback": [
      "\u001b[1;31m---------------------------------------------------------------------------\u001b[0m",
      "\u001b[1;31mKeyboardInterrupt\u001b[0m                         Traceback (most recent call last)",
      "Input \u001b[1;32mIn [50]\u001b[0m, in \u001b[0;36m<cell line: 1>\u001b[1;34m()\u001b[0m\n\u001b[1;32m----> 1\u001b[0m \u001b[43mtuner\u001b[49m\u001b[38;5;241;43m.\u001b[39;49m\u001b[43msearch\u001b[49m\u001b[43m(\u001b[49m\u001b[43mX_train\u001b[49m\u001b[43m,\u001b[49m\u001b[43m \u001b[49m\u001b[43my_train\u001b[49m\u001b[43m,\u001b[49m\u001b[43m \u001b[49m\u001b[43mepochs\u001b[49m\u001b[38;5;241;43m=\u001b[39;49m\u001b[38;5;241;43m10\u001b[39;49m\u001b[43m,\u001b[49m\u001b[43m \u001b[49m\u001b[43mvalidation_split\u001b[49m\u001b[38;5;241;43m=\u001b[39;49m\u001b[38;5;241;43m0.2\u001b[39;49m\u001b[43m,\u001b[49m\u001b[43m \u001b[49m\u001b[43mcallbacks\u001b[49m\u001b[38;5;241;43m=\u001b[39;49m\u001b[43m[\u001b[49m\u001b[43mstop_early\u001b[49m\u001b[43m]\u001b[49m\u001b[43m)\u001b[49m\n\u001b[0;32m      2\u001b[0m best_hps\u001b[38;5;241m=\u001b[39mtuner\u001b[38;5;241m.\u001b[39mget_best_hyperparameters(num_trials\u001b[38;5;241m=\u001b[39m\u001b[38;5;241m1\u001b[39m)[\u001b[38;5;241m0\u001b[39m]\n",
      "File \u001b[1;32mC:\\Program Files\\Python310\\lib\\site-packages\\keras_tuner\\engine\\base_tuner.py:179\u001b[0m, in \u001b[0;36mBaseTuner.search\u001b[1;34m(self, *fit_args, **fit_kwargs)\u001b[0m\n\u001b[0;32m    176\u001b[0m     \u001b[38;5;28;01mcontinue\u001b[39;00m\n\u001b[0;32m    178\u001b[0m \u001b[38;5;28mself\u001b[39m\u001b[38;5;241m.\u001b[39mon_trial_begin(trial)\n\u001b[1;32m--> 179\u001b[0m results \u001b[38;5;241m=\u001b[39m \u001b[38;5;28mself\u001b[39m\u001b[38;5;241m.\u001b[39mrun_trial(trial, \u001b[38;5;241m*\u001b[39mfit_args, \u001b[38;5;241m*\u001b[39m\u001b[38;5;241m*\u001b[39mfit_kwargs)\n\u001b[0;32m    180\u001b[0m \u001b[38;5;66;03m# `results` is None indicates user updated oracle in `run_trial()`.\u001b[39;00m\n\u001b[0;32m    181\u001b[0m \u001b[38;5;28;01mif\u001b[39;00m results \u001b[38;5;129;01mis\u001b[39;00m \u001b[38;5;28;01mNone\u001b[39;00m:\n",
      "File \u001b[1;32mC:\\Program Files\\Python310\\lib\\site-packages\\keras_tuner\\tuners\\hyperband.py:384\u001b[0m, in \u001b[0;36mHyperband.run_trial\u001b[1;34m(self, trial, *fit_args, **fit_kwargs)\u001b[0m\n\u001b[0;32m    382\u001b[0m     fit_kwargs[\u001b[38;5;124m\"\u001b[39m\u001b[38;5;124mepochs\u001b[39m\u001b[38;5;124m\"\u001b[39m] \u001b[38;5;241m=\u001b[39m hp\u001b[38;5;241m.\u001b[39mvalues[\u001b[38;5;124m\"\u001b[39m\u001b[38;5;124mtuner/epochs\u001b[39m\u001b[38;5;124m\"\u001b[39m]\n\u001b[0;32m    383\u001b[0m     fit_kwargs[\u001b[38;5;124m\"\u001b[39m\u001b[38;5;124minitial_epoch\u001b[39m\u001b[38;5;124m\"\u001b[39m] \u001b[38;5;241m=\u001b[39m hp\u001b[38;5;241m.\u001b[39mvalues[\u001b[38;5;124m\"\u001b[39m\u001b[38;5;124mtuner/initial_epoch\u001b[39m\u001b[38;5;124m\"\u001b[39m]\n\u001b[1;32m--> 384\u001b[0m \u001b[38;5;28;01mreturn\u001b[39;00m \u001b[38;5;28msuper\u001b[39m(Hyperband, \u001b[38;5;28mself\u001b[39m)\u001b[38;5;241m.\u001b[39mrun_trial(trial, \u001b[38;5;241m*\u001b[39mfit_args, \u001b[38;5;241m*\u001b[39m\u001b[38;5;241m*\u001b[39mfit_kwargs)\n",
      "File \u001b[1;32mC:\\Program Files\\Python310\\lib\\site-packages\\keras_tuner\\engine\\tuner.py:294\u001b[0m, in \u001b[0;36mTuner.run_trial\u001b[1;34m(self, trial, *args, **kwargs)\u001b[0m\n\u001b[0;32m    292\u001b[0m     callbacks\u001b[38;5;241m.\u001b[39mappend(model_checkpoint)\n\u001b[0;32m    293\u001b[0m     copied_kwargs[\u001b[38;5;124m\"\u001b[39m\u001b[38;5;124mcallbacks\u001b[39m\u001b[38;5;124m\"\u001b[39m] \u001b[38;5;241m=\u001b[39m callbacks\n\u001b[1;32m--> 294\u001b[0m     obj_value \u001b[38;5;241m=\u001b[39m \u001b[38;5;28mself\u001b[39m\u001b[38;5;241m.\u001b[39m_build_and_fit_model(trial, \u001b[38;5;241m*\u001b[39margs, \u001b[38;5;241m*\u001b[39m\u001b[38;5;241m*\u001b[39mcopied_kwargs)\n\u001b[0;32m    296\u001b[0m     histories\u001b[38;5;241m.\u001b[39mappend(obj_value)\n\u001b[0;32m    297\u001b[0m \u001b[38;5;28;01mreturn\u001b[39;00m histories\n",
      "File \u001b[1;32mC:\\Program Files\\Python310\\lib\\site-packages\\keras_tuner\\engine\\tuner.py:222\u001b[0m, in \u001b[0;36mTuner._build_and_fit_model\u001b[1;34m(self, trial, *args, **kwargs)\u001b[0m\n\u001b[0;32m    220\u001b[0m hp \u001b[38;5;241m=\u001b[39m trial\u001b[38;5;241m.\u001b[39mhyperparameters\n\u001b[0;32m    221\u001b[0m model \u001b[38;5;241m=\u001b[39m \u001b[38;5;28mself\u001b[39m\u001b[38;5;241m.\u001b[39m_try_build(hp)\n\u001b[1;32m--> 222\u001b[0m results \u001b[38;5;241m=\u001b[39m \u001b[38;5;28mself\u001b[39m\u001b[38;5;241m.\u001b[39mhypermodel\u001b[38;5;241m.\u001b[39mfit(hp, model, \u001b[38;5;241m*\u001b[39margs, \u001b[38;5;241m*\u001b[39m\u001b[38;5;241m*\u001b[39mkwargs)\n\u001b[0;32m    223\u001b[0m \u001b[38;5;28;01mreturn\u001b[39;00m tuner_utils\u001b[38;5;241m.\u001b[39mconvert_to_metrics_dict(\n\u001b[0;32m    224\u001b[0m     results, \u001b[38;5;28mself\u001b[39m\u001b[38;5;241m.\u001b[39moracle\u001b[38;5;241m.\u001b[39mobjective, \u001b[38;5;124m\"\u001b[39m\u001b[38;5;124mHyperModel.fit()\u001b[39m\u001b[38;5;124m\"\u001b[39m\n\u001b[0;32m    225\u001b[0m )\n",
      "File \u001b[1;32mC:\\Program Files\\Python310\\lib\\site-packages\\keras_tuner\\engine\\hypermodel.py:137\u001b[0m, in \u001b[0;36mHyperModel.fit\u001b[1;34m(self, hp, model, *args, **kwargs)\u001b[0m\n\u001b[0;32m    113\u001b[0m \u001b[38;5;28;01mdef\u001b[39;00m \u001b[38;5;21mfit\u001b[39m(\u001b[38;5;28mself\u001b[39m, hp, model, \u001b[38;5;241m*\u001b[39margs, \u001b[38;5;241m*\u001b[39m\u001b[38;5;241m*\u001b[39mkwargs):\n\u001b[0;32m    114\u001b[0m     \u001b[38;5;124;03m\"\"\"Train the model.\u001b[39;00m\n\u001b[0;32m    115\u001b[0m \n\u001b[0;32m    116\u001b[0m \u001b[38;5;124;03m    Args:\u001b[39;00m\n\u001b[1;32m   (...)\u001b[0m\n\u001b[0;32m    135\u001b[0m \u001b[38;5;124;03m        If return a float, it should be the `objective` value.\u001b[39;00m\n\u001b[0;32m    136\u001b[0m \u001b[38;5;124;03m    \"\"\"\u001b[39;00m\n\u001b[1;32m--> 137\u001b[0m     \u001b[38;5;28;01mreturn\u001b[39;00m model\u001b[38;5;241m.\u001b[39mfit(\u001b[38;5;241m*\u001b[39margs, \u001b[38;5;241m*\u001b[39m\u001b[38;5;241m*\u001b[39mkwargs)\n",
      "File \u001b[1;32mC:\\Program Files\\Python310\\lib\\site-packages\\keras\\utils\\traceback_utils.py:64\u001b[0m, in \u001b[0;36mfilter_traceback.<locals>.error_handler\u001b[1;34m(*args, **kwargs)\u001b[0m\n\u001b[0;32m     62\u001b[0m filtered_tb \u001b[38;5;241m=\u001b[39m \u001b[38;5;28;01mNone\u001b[39;00m\n\u001b[0;32m     63\u001b[0m \u001b[38;5;28;01mtry\u001b[39;00m:\n\u001b[1;32m---> 64\u001b[0m   \u001b[38;5;28;01mreturn\u001b[39;00m fn(\u001b[38;5;241m*\u001b[39margs, \u001b[38;5;241m*\u001b[39m\u001b[38;5;241m*\u001b[39mkwargs)\n\u001b[0;32m     65\u001b[0m \u001b[38;5;28;01mexcept\u001b[39;00m \u001b[38;5;167;01mException\u001b[39;00m \u001b[38;5;28;01mas\u001b[39;00m e:  \u001b[38;5;66;03m# pylint: disable=broad-except\u001b[39;00m\n\u001b[0;32m     66\u001b[0m   filtered_tb \u001b[38;5;241m=\u001b[39m _process_traceback_frames(e\u001b[38;5;241m.\u001b[39m__traceback__)\n",
      "File \u001b[1;32mC:\\Program Files\\Python310\\lib\\site-packages\\keras\\engine\\training.py:1384\u001b[0m, in \u001b[0;36mModel.fit\u001b[1;34m(self, x, y, batch_size, epochs, verbose, callbacks, validation_split, validation_data, shuffle, class_weight, sample_weight, initial_epoch, steps_per_epoch, validation_steps, validation_batch_size, validation_freq, max_queue_size, workers, use_multiprocessing)\u001b[0m\n\u001b[0;32m   1377\u001b[0m \u001b[38;5;28;01mwith\u001b[39;00m tf\u001b[38;5;241m.\u001b[39mprofiler\u001b[38;5;241m.\u001b[39mexperimental\u001b[38;5;241m.\u001b[39mTrace(\n\u001b[0;32m   1378\u001b[0m     \u001b[38;5;124m'\u001b[39m\u001b[38;5;124mtrain\u001b[39m\u001b[38;5;124m'\u001b[39m,\n\u001b[0;32m   1379\u001b[0m     epoch_num\u001b[38;5;241m=\u001b[39mepoch,\n\u001b[0;32m   1380\u001b[0m     step_num\u001b[38;5;241m=\u001b[39mstep,\n\u001b[0;32m   1381\u001b[0m     batch_size\u001b[38;5;241m=\u001b[39mbatch_size,\n\u001b[0;32m   1382\u001b[0m     _r\u001b[38;5;241m=\u001b[39m\u001b[38;5;241m1\u001b[39m):\n\u001b[0;32m   1383\u001b[0m   callbacks\u001b[38;5;241m.\u001b[39mon_train_batch_begin(step)\n\u001b[1;32m-> 1384\u001b[0m   tmp_logs \u001b[38;5;241m=\u001b[39m \u001b[38;5;28;43mself\u001b[39;49m\u001b[38;5;241;43m.\u001b[39;49m\u001b[43mtrain_function\u001b[49m\u001b[43m(\u001b[49m\u001b[43miterator\u001b[49m\u001b[43m)\u001b[49m\n\u001b[0;32m   1385\u001b[0m   \u001b[38;5;28;01mif\u001b[39;00m data_handler\u001b[38;5;241m.\u001b[39mshould_sync:\n\u001b[0;32m   1386\u001b[0m     context\u001b[38;5;241m.\u001b[39masync_wait()\n",
      "File \u001b[1;32mC:\\Program Files\\Python310\\lib\\site-packages\\tensorflow\\python\\util\\traceback_utils.py:150\u001b[0m, in \u001b[0;36mfilter_traceback.<locals>.error_handler\u001b[1;34m(*args, **kwargs)\u001b[0m\n\u001b[0;32m    148\u001b[0m filtered_tb \u001b[38;5;241m=\u001b[39m \u001b[38;5;28;01mNone\u001b[39;00m\n\u001b[0;32m    149\u001b[0m \u001b[38;5;28;01mtry\u001b[39;00m:\n\u001b[1;32m--> 150\u001b[0m   \u001b[38;5;28;01mreturn\u001b[39;00m fn(\u001b[38;5;241m*\u001b[39margs, \u001b[38;5;241m*\u001b[39m\u001b[38;5;241m*\u001b[39mkwargs)\n\u001b[0;32m    151\u001b[0m \u001b[38;5;28;01mexcept\u001b[39;00m \u001b[38;5;167;01mException\u001b[39;00m \u001b[38;5;28;01mas\u001b[39;00m e:\n\u001b[0;32m    152\u001b[0m   filtered_tb \u001b[38;5;241m=\u001b[39m _process_traceback_frames(e\u001b[38;5;241m.\u001b[39m__traceback__)\n",
      "File \u001b[1;32mC:\\Program Files\\Python310\\lib\\site-packages\\tensorflow\\python\\eager\\def_function.py:915\u001b[0m, in \u001b[0;36mFunction.__call__\u001b[1;34m(self, *args, **kwds)\u001b[0m\n\u001b[0;32m    912\u001b[0m compiler \u001b[38;5;241m=\u001b[39m \u001b[38;5;124m\"\u001b[39m\u001b[38;5;124mxla\u001b[39m\u001b[38;5;124m\"\u001b[39m \u001b[38;5;28;01mif\u001b[39;00m \u001b[38;5;28mself\u001b[39m\u001b[38;5;241m.\u001b[39m_jit_compile \u001b[38;5;28;01melse\u001b[39;00m \u001b[38;5;124m\"\u001b[39m\u001b[38;5;124mnonXla\u001b[39m\u001b[38;5;124m\"\u001b[39m\n\u001b[0;32m    914\u001b[0m \u001b[38;5;28;01mwith\u001b[39;00m OptionalXlaContext(\u001b[38;5;28mself\u001b[39m\u001b[38;5;241m.\u001b[39m_jit_compile):\n\u001b[1;32m--> 915\u001b[0m   result \u001b[38;5;241m=\u001b[39m \u001b[38;5;28mself\u001b[39m\u001b[38;5;241m.\u001b[39m_call(\u001b[38;5;241m*\u001b[39margs, \u001b[38;5;241m*\u001b[39m\u001b[38;5;241m*\u001b[39mkwds)\n\u001b[0;32m    917\u001b[0m new_tracing_count \u001b[38;5;241m=\u001b[39m \u001b[38;5;28mself\u001b[39m\u001b[38;5;241m.\u001b[39mexperimental_get_tracing_count()\n\u001b[0;32m    918\u001b[0m without_tracing \u001b[38;5;241m=\u001b[39m (tracing_count \u001b[38;5;241m==\u001b[39m new_tracing_count)\n",
      "File \u001b[1;32mC:\\Program Files\\Python310\\lib\\site-packages\\tensorflow\\python\\eager\\def_function.py:947\u001b[0m, in \u001b[0;36mFunction._call\u001b[1;34m(self, *args, **kwds)\u001b[0m\n\u001b[0;32m    944\u001b[0m   \u001b[38;5;28mself\u001b[39m\u001b[38;5;241m.\u001b[39m_lock\u001b[38;5;241m.\u001b[39mrelease()\n\u001b[0;32m    945\u001b[0m   \u001b[38;5;66;03m# In this case we have created variables on the first call, so we run the\u001b[39;00m\n\u001b[0;32m    946\u001b[0m   \u001b[38;5;66;03m# defunned version which is guaranteed to never create variables.\u001b[39;00m\n\u001b[1;32m--> 947\u001b[0m   \u001b[38;5;28;01mreturn\u001b[39;00m \u001b[38;5;28mself\u001b[39m\u001b[38;5;241m.\u001b[39m_stateless_fn(\u001b[38;5;241m*\u001b[39margs, \u001b[38;5;241m*\u001b[39m\u001b[38;5;241m*\u001b[39mkwds)  \u001b[38;5;66;03m# pylint: disable=not-callable\u001b[39;00m\n\u001b[0;32m    948\u001b[0m \u001b[38;5;28;01melif\u001b[39;00m \u001b[38;5;28mself\u001b[39m\u001b[38;5;241m.\u001b[39m_stateful_fn \u001b[38;5;129;01mis\u001b[39;00m \u001b[38;5;129;01mnot\u001b[39;00m \u001b[38;5;28;01mNone\u001b[39;00m:\n\u001b[0;32m    949\u001b[0m   \u001b[38;5;66;03m# Release the lock early so that multiple threads can perform the call\u001b[39;00m\n\u001b[0;32m    950\u001b[0m   \u001b[38;5;66;03m# in parallel.\u001b[39;00m\n\u001b[0;32m    951\u001b[0m   \u001b[38;5;28mself\u001b[39m\u001b[38;5;241m.\u001b[39m_lock\u001b[38;5;241m.\u001b[39mrelease()\n",
      "File \u001b[1;32mC:\\Program Files\\Python310\\lib\\site-packages\\tensorflow\\python\\eager\\function.py:2956\u001b[0m, in \u001b[0;36mFunction.__call__\u001b[1;34m(self, *args, **kwargs)\u001b[0m\n\u001b[0;32m   2953\u001b[0m \u001b[38;5;28;01mwith\u001b[39;00m \u001b[38;5;28mself\u001b[39m\u001b[38;5;241m.\u001b[39m_lock:\n\u001b[0;32m   2954\u001b[0m   (graph_function,\n\u001b[0;32m   2955\u001b[0m    filtered_flat_args) \u001b[38;5;241m=\u001b[39m \u001b[38;5;28mself\u001b[39m\u001b[38;5;241m.\u001b[39m_maybe_define_function(args, kwargs)\n\u001b[1;32m-> 2956\u001b[0m \u001b[38;5;28;01mreturn\u001b[39;00m \u001b[43mgraph_function\u001b[49m\u001b[38;5;241;43m.\u001b[39;49m\u001b[43m_call_flat\u001b[49m\u001b[43m(\u001b[49m\n\u001b[0;32m   2957\u001b[0m \u001b[43m    \u001b[49m\u001b[43mfiltered_flat_args\u001b[49m\u001b[43m,\u001b[49m\u001b[43m \u001b[49m\u001b[43mcaptured_inputs\u001b[49m\u001b[38;5;241;43m=\u001b[39;49m\u001b[43mgraph_function\u001b[49m\u001b[38;5;241;43m.\u001b[39;49m\u001b[43mcaptured_inputs\u001b[49m\u001b[43m)\u001b[49m\n",
      "File \u001b[1;32mC:\\Program Files\\Python310\\lib\\site-packages\\tensorflow\\python\\eager\\function.py:1853\u001b[0m, in \u001b[0;36mConcreteFunction._call_flat\u001b[1;34m(self, args, captured_inputs, cancellation_manager)\u001b[0m\n\u001b[0;32m   1849\u001b[0m possible_gradient_type \u001b[38;5;241m=\u001b[39m gradients_util\u001b[38;5;241m.\u001b[39mPossibleTapeGradientTypes(args)\n\u001b[0;32m   1850\u001b[0m \u001b[38;5;28;01mif\u001b[39;00m (possible_gradient_type \u001b[38;5;241m==\u001b[39m gradients_util\u001b[38;5;241m.\u001b[39mPOSSIBLE_GRADIENT_TYPES_NONE\n\u001b[0;32m   1851\u001b[0m     \u001b[38;5;129;01mand\u001b[39;00m executing_eagerly):\n\u001b[0;32m   1852\u001b[0m   \u001b[38;5;66;03m# No tape is watching; skip to running the function.\u001b[39;00m\n\u001b[1;32m-> 1853\u001b[0m   \u001b[38;5;28;01mreturn\u001b[39;00m \u001b[38;5;28mself\u001b[39m\u001b[38;5;241m.\u001b[39m_build_call_outputs(\u001b[38;5;28;43mself\u001b[39;49m\u001b[38;5;241;43m.\u001b[39;49m\u001b[43m_inference_function\u001b[49m\u001b[38;5;241;43m.\u001b[39;49m\u001b[43mcall\u001b[49m\u001b[43m(\u001b[49m\n\u001b[0;32m   1854\u001b[0m \u001b[43m      \u001b[49m\u001b[43mctx\u001b[49m\u001b[43m,\u001b[49m\u001b[43m \u001b[49m\u001b[43margs\u001b[49m\u001b[43m,\u001b[49m\u001b[43m \u001b[49m\u001b[43mcancellation_manager\u001b[49m\u001b[38;5;241;43m=\u001b[39;49m\u001b[43mcancellation_manager\u001b[49m\u001b[43m)\u001b[49m)\n\u001b[0;32m   1855\u001b[0m forward_backward \u001b[38;5;241m=\u001b[39m \u001b[38;5;28mself\u001b[39m\u001b[38;5;241m.\u001b[39m_select_forward_and_backward_functions(\n\u001b[0;32m   1856\u001b[0m     args,\n\u001b[0;32m   1857\u001b[0m     possible_gradient_type,\n\u001b[0;32m   1858\u001b[0m     executing_eagerly)\n\u001b[0;32m   1859\u001b[0m forward_function, args_with_tangents \u001b[38;5;241m=\u001b[39m forward_backward\u001b[38;5;241m.\u001b[39mforward()\n",
      "File \u001b[1;32mC:\\Program Files\\Python310\\lib\\site-packages\\tensorflow\\python\\eager\\function.py:499\u001b[0m, in \u001b[0;36m_EagerDefinedFunction.call\u001b[1;34m(self, ctx, args, cancellation_manager)\u001b[0m\n\u001b[0;32m    497\u001b[0m \u001b[38;5;28;01mwith\u001b[39;00m _InterpolateFunctionError(\u001b[38;5;28mself\u001b[39m):\n\u001b[0;32m    498\u001b[0m   \u001b[38;5;28;01mif\u001b[39;00m cancellation_manager \u001b[38;5;129;01mis\u001b[39;00m \u001b[38;5;28;01mNone\u001b[39;00m:\n\u001b[1;32m--> 499\u001b[0m     outputs \u001b[38;5;241m=\u001b[39m \u001b[43mexecute\u001b[49m\u001b[38;5;241;43m.\u001b[39;49m\u001b[43mexecute\u001b[49m\u001b[43m(\u001b[49m\n\u001b[0;32m    500\u001b[0m \u001b[43m        \u001b[49m\u001b[38;5;28;43mstr\u001b[39;49m\u001b[43m(\u001b[49m\u001b[38;5;28;43mself\u001b[39;49m\u001b[38;5;241;43m.\u001b[39;49m\u001b[43msignature\u001b[49m\u001b[38;5;241;43m.\u001b[39;49m\u001b[43mname\u001b[49m\u001b[43m)\u001b[49m\u001b[43m,\u001b[49m\n\u001b[0;32m    501\u001b[0m \u001b[43m        \u001b[49m\u001b[43mnum_outputs\u001b[49m\u001b[38;5;241;43m=\u001b[39;49m\u001b[38;5;28;43mself\u001b[39;49m\u001b[38;5;241;43m.\u001b[39;49m\u001b[43m_num_outputs\u001b[49m\u001b[43m,\u001b[49m\n\u001b[0;32m    502\u001b[0m \u001b[43m        \u001b[49m\u001b[43minputs\u001b[49m\u001b[38;5;241;43m=\u001b[39;49m\u001b[43margs\u001b[49m\u001b[43m,\u001b[49m\n\u001b[0;32m    503\u001b[0m \u001b[43m        \u001b[49m\u001b[43mattrs\u001b[49m\u001b[38;5;241;43m=\u001b[39;49m\u001b[43mattrs\u001b[49m\u001b[43m,\u001b[49m\n\u001b[0;32m    504\u001b[0m \u001b[43m        \u001b[49m\u001b[43mctx\u001b[49m\u001b[38;5;241;43m=\u001b[39;49m\u001b[43mctx\u001b[49m\u001b[43m)\u001b[49m\n\u001b[0;32m    505\u001b[0m   \u001b[38;5;28;01melse\u001b[39;00m:\n\u001b[0;32m    506\u001b[0m     outputs \u001b[38;5;241m=\u001b[39m execute\u001b[38;5;241m.\u001b[39mexecute_with_cancellation(\n\u001b[0;32m    507\u001b[0m         \u001b[38;5;28mstr\u001b[39m(\u001b[38;5;28mself\u001b[39m\u001b[38;5;241m.\u001b[39msignature\u001b[38;5;241m.\u001b[39mname),\n\u001b[0;32m    508\u001b[0m         num_outputs\u001b[38;5;241m=\u001b[39m\u001b[38;5;28mself\u001b[39m\u001b[38;5;241m.\u001b[39m_num_outputs,\n\u001b[1;32m   (...)\u001b[0m\n\u001b[0;32m    511\u001b[0m         ctx\u001b[38;5;241m=\u001b[39mctx,\n\u001b[0;32m    512\u001b[0m         cancellation_manager\u001b[38;5;241m=\u001b[39mcancellation_manager)\n",
      "File \u001b[1;32mC:\\Program Files\\Python310\\lib\\site-packages\\tensorflow\\python\\eager\\execute.py:54\u001b[0m, in \u001b[0;36mquick_execute\u001b[1;34m(op_name, num_outputs, inputs, attrs, ctx, name)\u001b[0m\n\u001b[0;32m     52\u001b[0m \u001b[38;5;28;01mtry\u001b[39;00m:\n\u001b[0;32m     53\u001b[0m   ctx\u001b[38;5;241m.\u001b[39mensure_initialized()\n\u001b[1;32m---> 54\u001b[0m   tensors \u001b[38;5;241m=\u001b[39m \u001b[43mpywrap_tfe\u001b[49m\u001b[38;5;241;43m.\u001b[39;49m\u001b[43mTFE_Py_Execute\u001b[49m\u001b[43m(\u001b[49m\u001b[43mctx\u001b[49m\u001b[38;5;241;43m.\u001b[39;49m\u001b[43m_handle\u001b[49m\u001b[43m,\u001b[49m\u001b[43m \u001b[49m\u001b[43mdevice_name\u001b[49m\u001b[43m,\u001b[49m\u001b[43m \u001b[49m\u001b[43mop_name\u001b[49m\u001b[43m,\u001b[49m\n\u001b[0;32m     55\u001b[0m \u001b[43m                                      \u001b[49m\u001b[43minputs\u001b[49m\u001b[43m,\u001b[49m\u001b[43m \u001b[49m\u001b[43mattrs\u001b[49m\u001b[43m,\u001b[49m\u001b[43m \u001b[49m\u001b[43mnum_outputs\u001b[49m\u001b[43m)\u001b[49m\n\u001b[0;32m     56\u001b[0m \u001b[38;5;28;01mexcept\u001b[39;00m core\u001b[38;5;241m.\u001b[39m_NotOkStatusException \u001b[38;5;28;01mas\u001b[39;00m e:\n\u001b[0;32m     57\u001b[0m   \u001b[38;5;28;01mif\u001b[39;00m name \u001b[38;5;129;01mis\u001b[39;00m \u001b[38;5;129;01mnot\u001b[39;00m \u001b[38;5;28;01mNone\u001b[39;00m:\n",
      "\u001b[1;31mKeyboardInterrupt\u001b[0m: "
     ]
    }
   ],
   "source": [
    "tuner.search(X_train, y_train, epochs=10, validation_split=0.2, callbacks=[stop_early])\n",
    "best_hps=tuner.get_best_hyperparameters(num_trials=1)[0]"
   ]
  },
  {
   "cell_type": "code",
   "execution_count": null,
   "metadata": {
    "id": "r1TAJDld_k80"
   },
   "outputs": [],
   "source": [
    "tuner.results_summary()"
   ]
  },
  {
   "cell_type": "code",
   "execution_count": null,
   "metadata": {
    "id": "OEenJ3vkJLBV"
   },
   "outputs": [],
   "source": [
    "# Build the model with the optimal hyperparameters and train it on the data for 50 epochs\n",
    "model = tuner.hypermodel.build(best_hps)\n",
    "history = model.fit(X_train, y_train, epochs=50, batch_size=64, validation_split=0.2, validation_data=(X_val, y_val))\n",
    "\n",
    "val_acc_per_epoch = history.history['val_accuracy']\n",
    "best_epoch = val_acc_per_epoch.index(max(val_acc_per_epoch)) + 1\n",
    "print('Best epoch: %d' % (best_epoch,))"
   ]
  },
  {
   "cell_type": "code",
   "execution_count": null,
   "metadata": {
    "id": "GtUEl-blJPDS"
   },
   "outputs": [],
   "source": [
    "hypermodel = tuner.hypermodel.build(best_hps)\n",
    "\n",
    "# Retrain the model\n",
    "hypermodel.fit(img_train, label_train, epochs=best_epoch, validation_split=0.2)"
   ]
  },
  {
   "cell_type": "code",
   "execution_count": null,
   "metadata": {
    "id": "sRA8yWGeJSB4"
   },
   "outputs": [],
   "source": [
    "# Evaluate on validation set\n",
    "score = hypermodel.evaluate(X_val, y_val, verbose=1)\n",
    "print('\\nValidation loss / accuracy: %0.4f / %0.4f'%(score[0], score[1]))\n",
    "y_pred = hypermodel.predict(X_val)\n",
    "fpr, tpr, _ = roc_curve(y_val, y_pred)\n",
    "roc_auc = auc(fpr, tpr)\n",
    "print('Validation ROC AUC:', roc_auc)\n",
    "\n",
    "# Evaluate on test set\n",
    "#score = hypermodel.evaluate(X_test_all, y_test_all, verbose=1)\n",
    "#print('\\nTest loss / accuracy: %0.4f / %0.4f'%(score[0], score[1]))\n",
    "y_pred = hypermodel.predict(X_test_all)\n",
    "fpr, tpr, _ = roc_curve(y_test_all, y_pred)\n",
    "roc_auc = auc(fpr, tpr)\n",
    "print('Test ROC AUC:', roc_auc)\n",
    "\n",
    "\n",
    "############## HyperBand Ends ############"
   ]
  },
  {
   "cell_type": "code",
   "execution_count": null,
   "metadata": {
    "id": "j9iTg8jxJVCH"
   },
   "outputs": [],
   "source": [
    "predictions_prob=model.predict(X_test_all) # get predictions for all the test data"
   ]
  },
  {
   "cell_type": "code",
   "execution_count": null,
   "metadata": {
    "id": "o_DYqKaNOSae"
   },
   "outputs": [],
   "source": [
    "n_sample=200\n",
    "np.random.seed(42)\n",
    "ind=np.random.randint(0,len(X_test_all), size=n_sample)"
   ]
  },
  {
   "cell_type": "code",
   "execution_count": null,
   "metadata": {
    "id": "r2Rsz3P3OW6I"
   },
   "outputs": [],
   "source": [
    "imshow_group(X=X_tshow_all[ind],y=None,y_pred=predictions_prob[ind], phase='prediction')"
   ]
  },
  {
   "cell_type": "code",
   "execution_count": null,
   "metadata": {
    "id": "XHvu9TBJPwO5"
   },
   "outputs": [],
   "source": []
  },
  {
   "cell_type": "code",
   "execution_count": null,
   "metadata": {
    "id": "-BXhjyXCPxP-"
   },
   "outputs": [],
   "source": []
  },
  {
   "cell_type": "code",
   "execution_count": null,
   "metadata": {
    "id": "lv3M0GXoP1p-"
   },
   "outputs": [],
   "source": []
  },
  {
   "cell_type": "code",
   "execution_count": null,
   "metadata": {
    "id": "QfRODN91P4pU"
   },
   "outputs": [],
   "source": []
  }
 ],
 "metadata": {
  "colab": {
   "collapsed_sections": [],
   "machine_shape": "hm",
   "name": "Copy_of_Project.ipynb",
   "provenance": []
  },
  "kernelspec": {
   "display_name": "Python 3 (ipykernel)",
   "language": "python",
   "name": "python3"
  },
  "language_info": {
   "codemirror_mode": {
    "name": "ipython",
    "version": 3
   },
   "file_extension": ".py",
   "mimetype": "text/x-python",
   "name": "python",
   "nbconvert_exporter": "python",
   "pygments_lexer": "ipython3",
   "version": "3.10.4"
  }
 },
 "nbformat": 4,
 "nbformat_minor": 1
}
